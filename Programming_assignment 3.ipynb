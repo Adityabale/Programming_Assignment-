{
 "cells": [
  {
   "cell_type": "code",
   "execution_count": 5,
   "id": "b7506afa",
   "metadata": {},
   "outputs": [
    {
     "name": "stdout",
     "output_type": "stream",
     "text": [
      "Enter a interger: -90\n",
      "The number -90 is a negative number\n"
     ]
    }
   ],
   "source": [
    "# 1.Write a Python Program to Check if a Number is Positive, Negative or Zero?\n",
    "try:\n",
    "    a = int(input(\"Enter a interger: \"))\n",
    "    if a > 0:\n",
    "        print(\"The number {} is a positive number\".format(a))\n",
    "    elif a < 0:\n",
    "        print(\"The number {} is a negative number\".format(a))\n",
    "    else:\n",
    "        print(\"The number is zero\")\n",
    "        \n",
    "except Exception as e:\n",
    "    print(e)"
   ]
  },
  {
   "cell_type": "code",
   "execution_count": 7,
   "id": "5bfec05d",
   "metadata": {},
   "outputs": [
    {
     "name": "stdout",
     "output_type": "stream",
     "text": [
      "Enter a interger: 7\n",
      "The number 7 is an Odd number\n"
     ]
    }
   ],
   "source": [
    "# 2.Write a Python Program to Check if a Number is Odd or Even?\n",
    "try:\n",
    "    a = int(input(\"Enter a interger: \"))\n",
    "    if a % 2 == 0:\n",
    "        print(\"The number {} is a Even number\".format(a))\n",
    "    else:\n",
    "        print(\"The number {} is an Odd number\".format(a))\n",
    "        \n",
    "except Exception as e:\n",
    "    print(e)"
   ]
  },
  {
   "cell_type": "code",
   "execution_count": 13,
   "id": "022d5938",
   "metadata": {},
   "outputs": [
    {
     "name": "stdout",
     "output_type": "stream",
     "text": [
      "Enter a year: 2017\n",
      "2017 is not a leap Year\n"
     ]
    }
   ],
   "source": [
    "# 3.Write a Python Program to Check Leap Year?\n",
    "import calendar\n",
    "\n",
    "x = int(input(\"Enter a year: \"))\n",
    "if calendar.isleap(x) == True:\n",
    "    print(\"%d is a leap Year\"%x)\n",
    "else:\n",
    "    print(\"%d is not a leap Year\"%x)\n"
   ]
  },
  {
   "cell_type": "code",
   "execution_count": 20,
   "id": "7be13135",
   "metadata": {},
   "outputs": [
    {
     "name": "stdout",
     "output_type": "stream",
     "text": [
      "Enter a number: 17\n",
      "The number 17 is a prime number\n"
     ]
    }
   ],
   "source": [
    "# 4.Write a Python Program to Check Prime Number?\n",
    "a = int(input(\"Enter a number: \"))\n",
    "l = []\n",
    "for i in range(1,a):\n",
    "    if a % i == 0:\n",
    "        l.append(i)\n",
    "if len(l) == 1:\n",
    "    print(\"The number %d is a prime number\" %a)\n",
    "else:\n",
    "    print(\"The number %d is not a prime number\" %a)"
   ]
  },
  {
   "cell_type": "code",
   "execution_count": 22,
   "id": "117a6c25",
   "metadata": {},
   "outputs": [
    {
     "name": "stdout",
     "output_type": "stream",
     "text": [
      "[2, 3, 5, 7, 11, 13, 17, 19, 23, 29, 31, 37, 41, 43, 47, 53, 59, 61, 67, 71, 73, 79, 83, 89, 97, 101, 103, 107, 109, 113, 127, 131, 137, 139, 149, 151, 157, 163, 167, 173, 179, 181, 191, 193, 197, 199, 211, 223, 227, 229, 233, 239, 241, 251, 257, 263, 269, 271, 277, 281, 283, 293, 307, 311, 313, 317, 331, 337, 347, 349, 353, 359, 367, 373, 379, 383, 389, 397, 401, 409, 419, 421, 431, 433, 439, 443, 449, 457, 461, 463, 467, 479, 487, 491, 499, 503, 509, 521, 523, 541, 547, 557, 563, 569, 571, 577, 587, 593, 599, 601, 607, 613, 617, 619, 631, 641, 643, 647, 653, 659, 661, 673, 677, 683, 691, 701, 709, 719, 727, 733, 739, 743, 751, 757, 761, 769, 773, 787, 797, 809, 811, 821, 823, 827, 829, 839, 853, 857, 859, 863, 877, 881, 883, 887, 907, 911, 919, 929, 937, 941, 947, 953, 967, 971, 977, 983, 991, 997]\n"
     ]
    }
   ],
   "source": [
    "# 5.Write a Python Program to Print all Prime Numbers in an Interval of 1-10000?\n",
    "a = range(1,1000)\n",
    "L = []\n",
    "for i in list(a):\n",
    "    l = []\n",
    "    for j in range(1,i):\n",
    "        if i % j == 0:\n",
    "            l.append(j)\n",
    "    if len(l) == 1:\n",
    "        L.append(i)\n",
    "print(L)"
   ]
  }
 ],
 "metadata": {
  "kernelspec": {
   "display_name": "Python 3 (ipykernel)",
   "language": "python",
   "name": "python3"
  },
  "language_info": {
   "codemirror_mode": {
    "name": "ipython",
    "version": 3
   },
   "file_extension": ".py",
   "mimetype": "text/x-python",
   "name": "python",
   "nbconvert_exporter": "python",
   "pygments_lexer": "ipython3",
   "version": "3.9.12"
  }
 },
 "nbformat": 4,
 "nbformat_minor": 5
}
