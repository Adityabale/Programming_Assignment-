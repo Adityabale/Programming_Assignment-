{
 "cells": [
  {
   "cell_type": "code",
   "execution_count": 20,
   "id": "7da0ec84",
   "metadata": {},
   "outputs": [
    {
     "name": "stdout",
     "output_type": "stream",
     "text": [
      "The Sum of Total Array Item =  230\n"
     ]
    }
   ],
   "source": [
    "#1.Write a Python Program to find sum of array?\n",
    "\n",
    "import numpy as np\n",
    "\n",
    "arr = np.array([10, 20, 40, 70, 90])\n",
    "total = sum(arr)\n",
    "print(\"The Sum of Total Array Item = \", total)"
   ]
  },
  {
   "cell_type": "code",
   "execution_count": 60,
   "id": "b6d94c6b",
   "metadata": {},
   "outputs": [
    {
     "name": "stdout",
     "output_type": "stream",
     "text": [
      "Largest in given array  9808\n"
     ]
    }
   ],
   "source": [
    "#2.Write a Python Program to find largest element in an array?\n",
    "\n",
    "def largest(arr, n):\n",
    "    ans = max(arr)\n",
    "    return ans;\n",
    " \n",
    "\n",
    "arr = [10, 324, 45, 90, 9808]\n",
    "n = len(arr)\n",
    "print (\"Largest in given array \", largest(arr, n))"
   ]
  },
  {
   "cell_type": "code",
   "execution_count": 47,
   "id": "577fd227",
   "metadata": {},
   "outputs": [
    {
     "name": "stdout",
     "output_type": "stream",
     "text": [
      "Array after left rotation is:  [4, 5, 6, 7, 1, 2, 3]\n"
     ]
    }
   ],
   "source": [
    "#3.Write a Python Program for array rotation?\n",
    "\n",
    "def rotateArray(a,d):\n",
    "    temp = []\n",
    "    n=len(a)\n",
    "    for i in range(d,n):\n",
    "        temp.append(a[i])\n",
    "    i = 0\n",
    "    for i in range (0,d):\n",
    "        temp.append(a[i])\n",
    "    a=temp.copy()\n",
    "    return a\n",
    " \n",
    "arr = [1, 2, 3, 4, 5, 6, 7]\n",
    "print(\"Array after left rotation is: \", end=' ')\n",
    "print(rotateArray(arr,3))"
   ]
  },
  {
   "cell_type": "code",
   "execution_count": 65,
   "id": "1d088559",
   "metadata": {},
   "outputs": [
    {
     "name": "stdout",
     "output_type": "stream",
     "text": [
      "3 4 5 6 7 8 9 10 11 12 1 2 "
     ]
    }
   ],
   "source": [
    "#4.Write a Python Program to Split the array and add the first part to the end?\n",
    "\n",
    "def splitArr(a, n, k):\n",
    "    b = a[:k]\n",
    "    return (a[k::]+b[::])\n",
    "\n",
    "arr = [1,2,3,4,5,6,7,8,9,10,11,12]\n",
    "n = len(arr)\n",
    "position = 2\n",
    "\n",
    "arr = splitArr(arr, n, position)\n",
    "\n",
    "for i in range(0, n):\n",
    "\tprint(arr[i], end = ' ')"
   ]
  },
  {
   "cell_type": "code",
   "execution_count": 56,
   "id": "2c5cf130",
   "metadata": {},
   "outputs": [
    {
     "name": "stdout",
     "output_type": "stream",
     "text": [
      "True\n"
     ]
    }
   ],
   "source": [
    "#5.Write a Python Program to check if given array is Monotonic?\n",
    "\n",
    "def isMonotonic(A):\n",
    "    x, y = [], []\n",
    "    x.extend(A)\n",
    "    y.extend(A)\n",
    "    x.sort()\n",
    "    y.sort(reverse=True)\n",
    "    if(x == A or y == A):\n",
    "        return True\n",
    "    return False\n",
    " \n",
    "A = [6, 5, 4, 3]\n",
    " \n",
    "print(isMonotonic(A))\n"
   ]
  }
 ],
 "metadata": {
  "kernelspec": {
   "display_name": "Python 3 (ipykernel)",
   "language": "python",
   "name": "python3"
  },
  "language_info": {
   "codemirror_mode": {
    "name": "ipython",
    "version": 3
   },
   "file_extension": ".py",
   "mimetype": "text/x-python",
   "name": "python",
   "nbconvert_exporter": "python",
   "pygments_lexer": "ipython3",
   "version": "3.9.12"
  }
 },
 "nbformat": 4,
 "nbformat_minor": 5
}
