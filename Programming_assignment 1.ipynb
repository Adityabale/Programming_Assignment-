{
 "cells": [
  {
   "cell_type": "code",
   "execution_count": 1,
   "id": "87155969",
   "metadata": {},
   "outputs": [
    {
     "name": "stdout",
     "output_type": "stream",
     "text": [
      "Hello Python\n"
     ]
    }
   ],
   "source": [
    "# 1.Write a Python program to print \"Hello Python\"?\n",
    "print(\"Hello Python\")"
   ]
  },
  {
   "cell_type": "code",
   "execution_count": 7,
   "id": "1312c27f",
   "metadata": {},
   "outputs": [
    {
     "name": "stdout",
     "output_type": "stream",
     "text": [
      "Enter number 1 : 1\n",
      "Enter number 2 : 0\n",
      "chosse 1 for addition and 2 for division :2\n",
      "float division by zero\n"
     ]
    }
   ],
   "source": [
    "# 2.Write a Python program to do arithmetical operations addition and division.?\n",
    "try:\n",
    "    a = float(input(\"Enter number 1 : \"))\n",
    "    b = float(input(\"Enter number 2 : \"))\n",
    "    c = int(input(\"chosse 1 for addition and 2 for division :\" ))\n",
    "\n",
    "    if c == 1:\n",
    "        print(a+b)\n",
    "    elif c == 2:\n",
    "        print(a/b)\n",
    "    else:\n",
    "        print('Invalid number')\n",
    "    \n",
    "except Exception as e:\n",
    "    print(e)"
   ]
  },
  {
   "cell_type": "code",
   "execution_count": 11,
   "id": "819218da",
   "metadata": {},
   "outputs": [
    {
     "name": "stdout",
     "output_type": "stream",
     "text": [
      "Enter the length of first side: 4\n",
      "Enter  the length of second side: 5\n",
      "Enter  the length of third side: 6\n",
      "The area of the triangle is 9.921567416492215\n",
      "The area of the triangle is 9\n"
     ]
    }
   ],
   "source": [
    "# 3.Write a Python program to find the area of a triangle?\n",
    "try:\n",
    "    a = float(input('Enter the length of first side: '))  \n",
    "    b = float(input('Enter  the length of second side: '))  \n",
    "    c = float(input('Enter  the length of third side: '))  \n",
    "    s = (a + b + c) / 2  \n",
    "    Area = (s*(s-a)*(s-b)*(s-c)) ** 0.5  \n",
    "    print('The area of the triangle is {}'.format(Area))\n",
    "    \n",
    "    \n",
    "except Exception as e:\n",
    "    print(e)"
   ]
  },
  {
   "cell_type": "code",
   "execution_count": 14,
   "id": "5a977c94",
   "metadata": {},
   "outputs": [
    {
     "name": "stdout",
     "output_type": "stream",
     "text": [
      "Enter value a : 12\n",
      "Enter value b : 23\n",
      "The value for a is : 23\n",
      "The value for b is : 12\n"
     ]
    }
   ],
   "source": [
    "# 4.Write a Python program to swap two variables?\n",
    "try:\n",
    "    a = input(\"Enter value a : \")\n",
    "    b = input(\"Enter value b : \")\n",
    "    print(\"The value for a is : {}\".format(b))\n",
    "    print(\"The value for b is : {}\".format(a))\n",
    "    \n",
    "except Exception as e:\n",
    "    print(e)\n",
    "    "
   ]
  },
  {
   "cell_type": "code",
   "execution_count": 18,
   "id": "9c064149",
   "metadata": {},
   "outputs": [
    {
     "name": "stdout",
     "output_type": "stream",
     "text": [
      "34\n"
     ]
    }
   ],
   "source": [
    "# 5.Write a Python program to generate a random number?\n",
    "import numpy as np\n",
    "\n",
    "a = np.random.randint(100)\n",
    "print(a)"
   ]
  }
 ],
 "metadata": {
  "kernelspec": {
   "display_name": "Python 3 (ipykernel)",
   "language": "python",
   "name": "python3"
  },
  "language_info": {
   "codemirror_mode": {
    "name": "ipython",
    "version": 3
   },
   "file_extension": ".py",
   "mimetype": "text/x-python",
   "name": "python",
   "nbconvert_exporter": "python",
   "pygments_lexer": "ipython3",
   "version": "3.9.12"
  }
 },
 "nbformat": 4,
 "nbformat_minor": 5
}
