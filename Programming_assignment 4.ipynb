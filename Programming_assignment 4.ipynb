{
 "cells": [
  {
   "cell_type": "code",
   "execution_count": 4,
   "id": "8c61be84",
   "metadata": {},
   "outputs": [
    {
     "name": "stdout",
     "output_type": "stream",
     "text": [
      "Enter a number : 5\n",
      "120\n"
     ]
    }
   ],
   "source": [
    "# 1.Write a Python Program to Find the Factorial of a Number?\n",
    "x = int(input(\"Enter a number : \"))\n",
    "a = 1\n",
    "for i in range(1,x+1):\n",
    "    a = a * i \n",
    "print(a)"
   ]
  },
  {
   "cell_type": "code",
   "execution_count": 6,
   "id": "d7a3b24a",
   "metadata": {},
   "outputs": [
    {
     "name": "stdout",
     "output_type": "stream",
     "text": [
      "Enter a number : 12\n",
      "Below is the table of 12\n",
      "12 x 1 = 12\n",
      "12 x 2 = 24\n",
      "12 x 3 = 36\n",
      "12 x 4 = 48\n",
      "12 x 5 = 60\n",
      "12 x 6 = 72\n",
      "12 x 7 = 84\n",
      "12 x 8 = 96\n",
      "12 x 9 = 108\n",
      "12 x 10 = 120\n"
     ]
    }
   ],
   "source": [
    "# 2.Write a Python Program to Display the multiplication Table?\n",
    "x = int(input(\"Enter a number : \"))\n",
    "print('Below is the table of %d'%x)\n",
    "for i in range(1,11):\n",
    "    print(x, 'x' , i , '=' , x*i )"
   ]
  },
  {
   "cell_type": "code",
   "execution_count": 12,
   "id": "fa085e6e",
   "metadata": {},
   "outputs": [
    {
     "name": "stdout",
     "output_type": "stream",
     "text": [
      "Enter a number : 12\n",
      "[0, 1, 1, 2, 3, 5, 8, 13]\n"
     ]
    }
   ],
   "source": [
    "# 3.Write a Python Program to Print the Fibonacci sequence?\n",
    "x = int(input(\"Enter a number : \"))\n",
    "a = 0\n",
    "b = 1\n",
    "l = [0,1]\n",
    "while b <= x:\n",
    "    c = b + a\n",
    "    a = b\n",
    "    b = c\n",
    "    l.append(b)\n",
    "print(l)"
   ]
  },
  {
   "cell_type": "code",
   "execution_count": 18,
   "id": "4c34a52b",
   "metadata": {},
   "outputs": [
    {
     "name": "stdout",
     "output_type": "stream",
     "text": [
      "Enter a number : 190\n",
      "730\n",
      "190 is not an Armstrong Number\n"
     ]
    }
   ],
   "source": [
    "# 4.Write a Python Program to Check Armstrong Number?\n",
    "x = int(input(\"Enter a number : \"))\n",
    "a = 0\n",
    "for i in str(x):\n",
    "    a = int(i)**3 + a\n",
    "print(a)\n",
    "if a == x:\n",
    "    print(\"%d is an Armstrong Number\" %x)\n",
    "else:\n",
    "    print(\"%d is not an Armstrong Number\" %x)"
   ]
  },
  {
   "cell_type": "code",
   "execution_count": 42,
   "id": "bb6c38a1",
   "metadata": {},
   "outputs": [
    {
     "name": "stdout",
     "output_type": "stream",
     "text": [
      "Enter a range -\n",
      "Lower limit: 10\n",
      "Upper limit:1000\n",
      "153 153\n",
      "370 370\n",
      "371 371\n",
      "407 407\n"
     ]
    }
   ],
   "source": [
    "# 5.Write a Python Program to Find Armstrong Number in an Interval?\n",
    "print(\"Enter a range -\")\n",
    "x = int(input(\"Lower limit: \"))\n",
    "y = int(input(\"Upper limit:\"))\n",
    "r = list(range(x,y+1))\n",
    "for j in r:\n",
    "    a = 0\n",
    "    for i in str(j):\n",
    "        a = int(i)**3 + a\n",
    "    if a == j:\n",
    "        print(j , a)\n",
    "    \n"
   ]
  },
  {
   "cell_type": "code",
   "execution_count": 44,
   "id": "bf567151",
   "metadata": {},
   "outputs": [
    {
     "name": "stdout",
     "output_type": "stream",
     "text": [
      "Enter a number : 12\n",
      "78\n"
     ]
    }
   ],
   "source": [
    "# 6.Write a Python Program to Find the Sum of Natural Numbers?\n",
    "x = int(input(\"Enter a number : \"))\n",
    "a = 0\n",
    "for i in range(x+1):\n",
    "    a = a + i\n",
    "print(a)"
   ]
  }
 ],
 "metadata": {
  "kernelspec": {
   "display_name": "Python 3 (ipykernel)",
   "language": "python",
   "name": "python3"
  },
  "language_info": {
   "codemirror_mode": {
    "name": "ipython",
    "version": 3
   },
   "file_extension": ".py",
   "mimetype": "text/x-python",
   "name": "python",
   "nbconvert_exporter": "python",
   "pygments_lexer": "ipython3",
   "version": "3.9.12"
  }
 },
 "nbformat": 4,
 "nbformat_minor": 5
}
