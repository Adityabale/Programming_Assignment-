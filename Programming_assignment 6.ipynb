{
 "cells": [
  {
   "cell_type": "code",
   "execution_count": 1,
   "id": "f72fd059",
   "metadata": {},
   "outputs": [
    {
     "name": "stdout",
     "output_type": "stream",
     "text": [
      "Enter number of terms:10\n",
      "Fibonacci sequence using Recursion :\n",
      "0\n",
      "1\n",
      "1\n",
      "2\n",
      "3\n",
      "5\n",
      "8\n",
      "13\n",
      "21\n",
      "34\n"
     ]
    }
   ],
   "source": [
    "#1.Write a Python Program to Display Fibonacci Sequence Using Recursion?\n",
    "\n",
    "def gen_seq(length):\n",
    "    if(length <= 1):\n",
    "        return length\n",
    "    else:\n",
    "        return (gen_seq(length-1) + gen_seq(length-2))\n",
    "\n",
    "length = int(input(\"Enter number of terms:\"))\n",
    "\n",
    "print(\"Fibonacci sequence using Recursion :\")\n",
    "for iter in range(length):\n",
    "    print(gen_seq(iter))"
   ]
  },
  {
   "cell_type": "code",
   "execution_count": 4,
   "id": "05ab2b5e",
   "metadata": {},
   "outputs": [
    {
     "name": "stdout",
     "output_type": "stream",
     "text": [
      "enter a number: 4\n",
      "Factorial of the number 4 is 24\n"
     ]
    }
   ],
   "source": [
    "#2.Write a Python Program to Find Factorial of Number Using Recursion?\n",
    "\n",
    "num = int(input(\"enter a number: \"))\n",
    "  \n",
    "j = 1\n",
    "i = 1\n",
    "  \n",
    "while i <= num:\n",
    "    j = j * i\n",
    "    i = i + 1\n",
    "  \n",
    "print (\"Factorial of the number %d is %d\" %(num, j))"
   ]
  },
  {
   "cell_type": "code",
   "execution_count": 5,
   "id": "cc1edbf8",
   "metadata": {},
   "outputs": [
    {
     "name": "stdout",
     "output_type": "stream",
     "text": [
      "Enter your height(m): 1.80\n",
      "Enter your weight(kg): 72\n",
      "Your BMI is:  22.22\n"
     ]
    }
   ],
   "source": [
    "#3.Write a Python Program to calculate your Body Mass Index?\n",
    "\n",
    "height = float(input(\"Enter your height(m): \"))\n",
    "weight = float(input(\"Enter your weight(kg): \"))\n",
    "print(\"Your BMI is: \", round(weight / (height * height), 2))"
   ]
  },
  {
   "cell_type": "code",
   "execution_count": 6,
   "id": "6c440523",
   "metadata": {},
   "outputs": [
    {
     "name": "stdout",
     "output_type": "stream",
     "text": [
      "Enter a number: 12\n",
      "2.4849066497880004\n"
     ]
    }
   ],
   "source": [
    "#4.Write a Python Program to calculate the natural logarithm of any number?\n",
    "\n",
    "from numpy import log as ln\n",
    "\n",
    "a = int(input(\"Enter a number: \"))\n",
    "x = ln(a)\n",
    "\n",
    "print(x)\n"
   ]
  },
  {
   "cell_type": "code",
   "execution_count": 11,
   "id": "136da985",
   "metadata": {},
   "outputs": [
    {
     "name": "stdout",
     "output_type": "stream",
     "text": [
      "Enter a number: 3\n",
      "36\n"
     ]
    }
   ],
   "source": [
    "#5.Write a Python Program for cube sum of first n natural numbers?\n",
    "\n",
    "a = int(input(\"Enter a number: \"))\n",
    "\n",
    "l =[]\n",
    "for i in range(1,a+1):\n",
    "    l.append(i*i*i)\n",
    "    \n",
    "h = 0\n",
    "for j in l:\n",
    "    h = h + j\n",
    "    \n",
    "print(h)"
   ]
  }
 ],
 "metadata": {
  "kernelspec": {
   "display_name": "Python 3 (ipykernel)",
   "language": "python",
   "name": "python3"
  },
  "language_info": {
   "codemirror_mode": {
    "name": "ipython",
    "version": 3
   },
   "file_extension": ".py",
   "mimetype": "text/x-python",
   "name": "python",
   "nbconvert_exporter": "python",
   "pygments_lexer": "ipython3",
   "version": "3.9.12"
  }
 },
 "nbformat": 4,
 "nbformat_minor": 5
}
