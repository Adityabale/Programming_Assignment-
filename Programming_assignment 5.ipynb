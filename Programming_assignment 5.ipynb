{
 "cells": [
  {
   "cell_type": "code",
   "execution_count": 6,
   "id": "9c662459",
   "metadata": {},
   "outputs": [
    {
     "name": "stdout",
     "output_type": "stream",
     "text": [
      "Enter the first number: 24\n",
      "Enter the second number: 36\n",
      "First Number is:  24\n",
      "Second Number is:  36\n",
      "HCF of the numbers is:  12\n"
     ]
    }
   ],
   "source": [
    "#1.Write a Python Program to Find HCF?\n",
    "\n",
    "try:\n",
    "    a = int(input(\"Enter the first number: \"))\n",
    "    b = int(input(\"Enter the second number: \"))\n",
    "    HCF = 1\n",
    " \n",
    "    for i in range(2,a+1):\n",
    "        if(a%i==0 and b%i==0):\n",
    "            HCF = i\n",
    " \n",
    "    print(\"First Number is: \",a)\n",
    "    print(\"Second Number is: \",b)\n",
    "    print(\"HCF of the numbers is: \",HCF) \n",
    "    \n",
    "except Exception as e:\n",
    "    print(e)\n",
    "    "
   ]
  },
  {
   "cell_type": "code",
   "execution_count": 5,
   "id": "f08b096c",
   "metadata": {},
   "outputs": [
    {
     "name": "stdout",
     "output_type": "stream",
     "text": [
      "Enter the first number: 24\n",
      "Enter the second number: 36\n",
      "First Number is:  24\n",
      "Second Number is:  36\n",
      "LCM of the two numbers is:  72\n"
     ]
    }
   ],
   "source": [
    "#2.Write a Python Program to Find LCM?\n",
    "\n",
    "try:\n",
    "    a = int(input(\"Enter the first number: \"))\n",
    "    b = int(input(\"Enter the second number: \"))\n",
    " \n",
    "    HCF = 1\n",
    " \n",
    "    for i in range(2,a+1):\n",
    "        if(a%i==0 and b%i==0):\n",
    "            HCF = i\n",
    " \n",
    "    print(\"First Number is: \",a)\n",
    "    print(\"Second Number is: \",b)\n",
    " \n",
    "    LCM = int((a*b)/(HCF))\n",
    "    print(\"LCM of the two numbers is: \",LCM)\n",
    "    \n",
    "except Exception as e:\n",
    "    print(e)"
   ]
  },
  {
   "cell_type": "code",
   "execution_count": 7,
   "id": "f3a68130",
   "metadata": {},
   "outputs": [
    {
     "name": "stdout",
     "output_type": "stream",
     "text": [
      "Enter an integer: 1234\n",
      "The decimal value of 1234 is:\n",
      "0b10011010010 in binary.\n",
      "0o2322 in octal.\n",
      "0x4d2 in hexadecimal.\n"
     ]
    }
   ],
   "source": [
    "#3.Write a Python Program to Convert Decimal to Binary, Octal and Hexadecimal?\n",
    "\n",
    "dec = int(input(\"Enter an integer: \"))\n",
    "print(\"The decimal value of\",dec,\"is:\")\n",
    "print(bin(dec),\"in binary.\")\n",
    "print(oct(dec),\"in octal.\")\n",
    "print(hex(dec),\"in hexadecimal.\")"
   ]
  },
  {
   "cell_type": "code",
   "execution_count": 10,
   "id": "c000bde9",
   "metadata": {},
   "outputs": [
    {
     "name": "stdout",
     "output_type": "stream",
     "text": [
      "Enter the number whose ASCII code needs to be found: r\n",
      "The ASCII value of given character is 114\n"
     ]
    }
   ],
   "source": [
    "#4.Write a Python Program To Find ASCII value of a character?\n",
    "\n",
    "c = input(\"Enter the number whose ASCII code needs to be found: \")\n",
    "print (\"The ASCII value of given character is\", ord(c ))"
   ]
  },
  {
   "cell_type": "code",
   "execution_count": null,
   "id": "965357da",
   "metadata": {},
   "outputs": [
    {
     "name": "stdout",
     "output_type": "stream",
     "text": [
      "Enter choice 1 for addition, 2 for substraction, 3 for multiplication, 4 for division2\n",
      "Enter first number: 24\n",
      "Enter second number: 36\n",
      "24.0 - 36.0 = -12.0\n",
      "Enter choice 1 for addition, 2 for substraction, 3 for multiplication, 4 for division1\n",
      "Enter first number: 23\n",
      "Enter second number: 67\n",
      "23.0 + 67.0 = 90.0\n"
     ]
    }
   ],
   "source": [
    "#5.Write a Python Program to Make a Simple Calculator with 4 basic mathematical operations?\n",
    "\n",
    "def add(x, y):\n",
    "    return x + y\n",
    "\n",
    "def subtract(x, y):\n",
    "    return x - y\n",
    "\n",
    "def multiply(x, y):\n",
    "    return x * y\n",
    "\n",
    "def divide(x, y):\n",
    "    return x / y\n",
    "\n",
    "while True:\n",
    "    choice = int(input(\"Enter choice 1 for addition, 2 for substraction, 3 for multiplication, 4 for division\"))\n",
    "\n",
    "    num1 = float(input(\"Enter first number: \"))\n",
    "    num2 = float(input(\"Enter second number: \"))\n",
    "\n",
    "    if choice == 1:\n",
    "        print(num1, \"+\", num2, \"=\", add(num1, num2))\n",
    "\n",
    "    elif choice == 2:\n",
    "        print(num1, \"-\", num2, \"=\", subtract(num1, num2))\n",
    "\n",
    "    elif choice == 3:\n",
    "        print(num1, \"*\", num2, \"=\", multiply(num1, num2))\n",
    "\n",
    "    elif choice == 4:\n",
    "        print(num1, \"/\", num2, \"=\", divide(num1, num2))\n"
   ]
  },
  {
   "cell_type": "code",
   "execution_count": null,
   "id": "eedb3c9c",
   "metadata": {},
   "outputs": [],
   "source": []
  }
 ],
 "metadata": {
  "kernelspec": {
   "display_name": "Python 3 (ipykernel)",
   "language": "python",
   "name": "python3"
  },
  "language_info": {
   "codemirror_mode": {
    "name": "ipython",
    "version": 3
   },
   "file_extension": ".py",
   "mimetype": "text/x-python",
   "name": "python",
   "nbconvert_exporter": "python",
   "pygments_lexer": "ipython3",
   "version": "3.9.12"
  }
 },
 "nbformat": 4,
 "nbformat_minor": 5
}
